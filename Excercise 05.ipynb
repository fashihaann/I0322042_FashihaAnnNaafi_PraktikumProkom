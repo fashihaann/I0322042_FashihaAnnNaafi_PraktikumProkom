{
 "cells": [
  {
   "attachments": {},
   "cell_type": "markdown",
   "metadata": {},
   "source": [
    "1. Diberikan List sebagai berikut!"
   ]
  },
  {
   "cell_type": "code",
   "execution_count": 5,
   "metadata": {},
   "outputs": [],
   "source": [
    "list1 = ['a','b','c']\n",
    "list2 = ['c','d','e']"
   ]
  },
  {
   "attachments": {},
   "cell_type": "markdown",
   "metadata": {},
   "source": [
    "Buatlah program pengulangan untuk menampilkan elemen dalam kedua list tersebut yang sama! (Contoh Output \"Nilai yang sama adalah 'C'\")"
   ]
  },
  {
   "cell_type": "code",
   "execution_count": 6,
   "metadata": {},
   "outputs": [
    {
     "name": "stdout",
     "output_type": "stream",
     "text": [
      "Nilai yang sama adalah c\n"
     ]
    }
   ],
   "source": [
    "# Kerjakan nomor 1 di sini\n",
    "list1 = ['a','b','c']\n",
    "list2 = ['c','d','e']\n",
    "\n",
    "for i in list1 :\n",
    "    if i in list2 :\n",
    "        print(\"Nilai yang sama adalah\", i)\n"
   ]
  },
  {
   "attachments": {},
   "cell_type": "markdown",
   "metadata": {},
   "source": [
    "2. Buatlah sebuah list yang berisi daftar mata kuliah di Teknik Industri UNS (minimal 10 matkul). Kemudian buat program pencarian menggunakan pengulangan. Apabila nama matkul yang user inputkan sudah sesuai dengan isi list maka program akan berhenti dan menampilkan output \"Mata Kuliah (matkul yang diinput user) adalah mata kuliah di Teknik Industri UNS\"."
   ]
  },
  {
   "cell_type": "code",
   "execution_count": 7,
   "metadata": {},
   "outputs": [
    {
     "name": "stdout",
     "output_type": "stream",
     "text": [
      " pkn bukan termasuk matkul Teknik Industri UNS\n",
      "Matkul biologi merupakan matkul Teknik Industri UNS\n"
     ]
    }
   ],
   "source": [
    "# Kerjakan nomor 2 di sini\n",
    "TeknikIndustri = [\"psikologi industri\", \"kalkulus I\", \"fisika Dasar I\", \"biologi\", \"gambar teknik\",\n",
    "                  \"kimia dasar\", \"pengantar ilmu ekonomi\", \"pengantar teknik industri\",\n",
    "                  \"programa komputer\", \"analisis ekonomi bisnis\"]\n",
    "while True:\n",
    "    Matkul = input(\"Masukkan nama matkul(masukkan 'selesai' jika sudah selesai ):\")\n",
    "    if Matkul.lower() == 'selesai':\n",
    "        break\n",
    "    elif Matkul in TeknikIndustri:\n",
    "        print(\"Matkul\", Matkul, \"merupakan matkul Teknik Industri UNS\")\n",
    "        break\n",
    "    else:\n",
    "        print(\"\", Matkul, \"bukan termasuk matkul Teknik Industri UNS\")"
   ]
  },
  {
   "attachments": {},
   "cell_type": "markdown",
   "metadata": {},
   "source": [
    "3. Buatlah program untuk menampilkan faktorial dari suatu bilangan dimana bilangan tersebut didapat melalui input user!"
   ]
  },
  {
   "cell_type": "code",
   "execution_count": 10,
   "metadata": {},
   "outputs": [
    {
     "name": "stdout",
     "output_type": "stream",
     "text": [
      "nilai faktorial 5 adalah 120\n"
     ]
    }
   ],
   "source": [
    "# Kerjakan nomor 3 di sini\n",
    "angka = int(input(\"masukkan angka: \"))\n",
    "faktorial = 1\n",
    "\n",
    "if angka < 0:\n",
    "    print(\"faktorial tidak berlaku untuk bilangan negatif\")\n",
    "elif angka == 0:\n",
    "    print(\"faktorial dari 0 adalah 1\")\n",
    "else :\n",
    "    for i in range (1, angka + 1):\n",
    "        faktorial = faktorial * i\n",
    "    print(\"nilai faktorial\", angka, \"adalah\", faktorial)\n",
    "\n"
   ]
  }
 ],
 "metadata": {
  "kernelspec": {
   "display_name": "Python 3",
   "language": "python",
   "name": "python3"
  },
  "language_info": {
   "codemirror_mode": {
    "name": "ipython",
    "version": 3
   },
   "file_extension": ".py",
   "mimetype": "text/x-python",
   "name": "python",
   "nbconvert_exporter": "python",
   "pygments_lexer": "ipython3",
   "version": "3.11.2"
  },
  "orig_nbformat": 4
 },
 "nbformat": 4,
 "nbformat_minor": 2
}
