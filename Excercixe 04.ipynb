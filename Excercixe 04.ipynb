{
 "cells": [
  {
   "cell_type": "code",
   "execution_count": 1,
   "metadata": {},
   "outputs": [
    {
     "name": "stdout",
     "output_type": "stream",
     "text": [
      "fashiha ann naafi\n",
      "I0322042\n",
      "B\n"
     ]
    }
   ],
   "source": [
    "print(input(\"Nama: \"))\n",
    "print(input(\"NIM: \"))\n",
    "print(input(\"Kelas: \"))"
   ]
  },
  {
   "attachments": {},
   "cell_type": "markdown",
   "metadata": {},
   "source": [
    "## 1."
   ]
  },
  {
   "attachments": {},
   "cell_type": "markdown",
   "metadata": {},
   "source": [
    "Buatlah program yang meminta input string dari user, kemudian program akan menentukan string tersebut adalah palyndrome atau bukan.<br>\n",
    "* Palyndrome adalah kata atau kalimat yang jika dibalik hasilnya sama\n",
    "* kasur rusak adalah palyndrome\n",
    "\n",
    "> *note: Kerjakan soal ini dengan percabangan*"
   ]
  },
  {
   "cell_type": "code",
   "execution_count": 9,
   "metadata": {},
   "outputs": [
    {
     "name": "stdout",
     "output_type": "stream",
     "text": [
      "kakak adalah palyndrome\n"
     ]
    }
   ],
   "source": [
    "# Kerjakan soal no 1 di sini\n",
    "\n",
    "kata = input('input kata: ')\n",
    "output = kata[::-1]\n",
    "\n",
    "if kata == output :\n",
    "    print(kata, \"adalah palyndrome\")\n",
    "else :\n",
    "    print(kata,\"bukan palyndrome\")"
   ]
  },
  {
   "attachments": {},
   "cell_type": "markdown",
   "metadata": {},
   "source": [
    "## 2."
   ]
  },
  {
   "attachments": {},
   "cell_type": "markdown",
   "metadata": {},
   "source": [
    "Buatlah program yang meminta input berupa tahun dan bulan kemudian tampilkan jumlah hari pada bulan tersebut (perbedaan pada tahun kabisat).<br>\n",
    "\n",
    "> *note: Kerjakan soal ini dengan percabangan*"
   ]
  },
  {
   "cell_type": "code",
   "execution_count": 12,
   "metadata": {},
   "outputs": [
    {
     "name": "stdout",
     "output_type": "stream",
     "text": [
      "jumlah hari dalam bulan 2 tahun 2004 : 29\n"
     ]
    }
   ],
   "source": [
    "# Kerjakan soal no 2 di sini\n",
    "\n",
    "tahun = int(input(\"tahun :\"))\n",
    "bulan = int(input(\"bulan(angka): \"))\n",
    "\n",
    "if tahun % 4 == 0 and (tahun % 100 != 0 or tahun % 400 == 0):\n",
    "    hari = [31, 29, 31, 30, 31, 30, 31, 31, 30, 31, 30, 31]\n",
    "else :\n",
    "    hari = [31, 28, 31, 30, 31, 30, 31, 31, 30, 31, 30, 31]\n",
    "\n",
    "tanggal = hari[bulan-1]\n",
    "print(\"jumlah hari dalam bulan {} tahun {} : {}\". format(bulan,tahun,tanggal))"
   ]
  }
 ],
 "metadata": {
  "kernelspec": {
   "display_name": "Python 3",
   "language": "python",
   "name": "python3"
  },
  "language_info": {
   "codemirror_mode": {
    "name": "ipython",
    "version": 3
   },
   "file_extension": ".py",
   "mimetype": "text/x-python",
   "name": "python",
   "nbconvert_exporter": "python",
   "pygments_lexer": "ipython3",
   "version": "3.11.2"
  },
  "orig_nbformat": 4
 },
 "nbformat": 4,
 "nbformat_minor": 2
}
