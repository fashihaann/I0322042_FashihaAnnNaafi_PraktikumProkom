{
 "cells": [
  {
   "cell_type": "code",
   "execution_count": 1,
   "metadata": {},
   "outputs": [
    {
     "name": "stdout",
     "output_type": "stream",
     "text": [
      "Fashiha Ann Naafi\n",
      "I0322042\n",
      "B\n"
     ]
    }
   ],
   "source": [
    "print(input(\"Nama: \"))\n",
    "print(input(\"NIM: \"))\n",
    "print(input(\"Kelas: \"))"
   ]
  },
  {
   "attachments": {},
   "cell_type": "markdown",
   "metadata": {},
   "source": [
    "## 1."
   ]
  },
  {
   "attachments": {},
   "cell_type": "markdown",
   "metadata": {},
   "source": [
    "* **A** Hitunglah luas Prisma Segitiga dengan ketentuan sebagai berikut:\n",
    "    * Alas dan tutup prisma merupakan segitiga\n",
    "    * Terdapat 3 persegi panjang yang menyinggung alas dan tutup prisma\n",
    "    * Sisi persegi panjang yang menyinggung segitiga adalah sisi lebar\n",
    "```python\n",
    "    dictionary_figure = {\"Persegi\":{\"Sisi\":22},\n",
    "                        \"Persegi Panjang\":{\"Panjang\":10,\"Lebar\":5},\n",
    "                        \"Segitiga Sama Sisi\":{\"Sisi\":6,\"Tinggi\":3**(1/2) * 3},\n",
    "                        \"Lingkaran\":{\"Diameter\":7}}\n",
    "```\n",
    "* **B** Hitunglah luas Tabung dengan ketentuan sebagai berikut:\n",
    "    * Alas dan tutup tabung merupakan lingkaran\n",
    "    * Terdapat 1 persegi yang menyinggung alas dan tutup tabung\n",
    "    * Persegi yang ada mengelilingi lingkaran hingga sisi dari persegi saling bertemu\n",
    "\n",
    "> **note:** *Pada soal ini kalian hanya boleh menggunakan key-value pair dan index pada list. Tidak diperbolehkan menulis secara langsung dimensi dari figure*"
   ]
  },
  {
   "cell_type": "code",
   "execution_count": 1,
   "metadata": {},
   "outputs": [
    {
     "name": "stdout",
     "output_type": "stream",
     "text": [
      "Luas Prisma Segitiga : 181.1769145362398\n",
      "Luas Tabung : 560.9300000000001\n"
     ]
    }
   ],
   "source": [
    "dictionary_figure = {\"Persegi\":{\"Sisi\":22},\n",
    "                        \"Persegi Panjang\":{\"Panjang\":10,\"Lebar\":5},\n",
    "                        \"Segitiga Sama Sisi\":{\"Sisi\":6,\"Tinggi\":3**(1/2) * 3},\n",
    "                        \"Lingkaran\":{\"Diameter\":7}}\n",
    "\n",
    "luas_persegi=(dictionary_figure[\"Persegi\"][\"Sisi\"])**2\n",
    "luas_persegi_panjang=(dictionary_figure[\"Persegi Panjang\"][\"Panjang\"])*(dictionary_figure[\"Persegi Panjang\"][\"Lebar\"])\n",
    "luas_segitiga_sama_sisi=1/2*(dictionary_figure[\"Segitiga Sama Sisi\"][\"Sisi\"])*(dictionary_figure[\"Segitiga Sama Sisi\"][\"Tinggi\"])\n",
    "luas_lingkaran=3.14*(dictionary_figure[\"Lingkaran\"][\"Diameter\"])**2/4\n",
    "\n",
    "luas_prisma_segitiga=2*luas_segitiga_sama_sisi+3*luas_persegi_panjang\n",
    "print(\"Luas Prisma Segitiga :\",luas_prisma_segitiga)\n",
    "\n",
    "luas_tabung=2*luas_lingkaran+luas_persegi\n",
    "print(\"Luas Tabung :\",luas_tabung)"
   ]
  },
  {
   "attachments": {},
   "cell_type": "markdown",
   "metadata": {},
   "source": [
    "## 2."
   ]
  },
  {
   "attachments": {},
   "cell_type": "markdown",
   "metadata": {},
   "source": [
    "Diberikan List sebagai berikut\n",
    "```Python\n",
    "    data = [8, 8, 4, 6, 8, 9, 6, 5, 4, 7]\n",
    "```\n",
    "* Tambahkan 3 angka baru ke dalam list\n",
    "* Tampilkan output list dengan berurutan dari yang terkecil hingga yang terbesar\n",
    "* Tentukan mean, median, dan modus pada list baru"
   ]
  },
  {
   "cell_type": "code",
   "execution_count": 1,
   "metadata": {},
   "outputs": [
    {
     "name": "stdout",
     "output_type": "stream",
     "text": [
      "[8, 8, 4, 6, 8, 9, 6, 5, 4, 7, 2, 7, 9]\n",
      "[2, 4, 4, 5, 6, 6, 7, 7, 8, 8, 8, 9, 9]\n",
      "mean : 6.384615384615385\n",
      "mean : 6.384615384615385\n",
      "median : 7\n",
      "modus : 8\n"
     ]
    }
   ],
   "source": [
    "data=[8, 8, 4, 6, 8, 9, 6, 5, 4, 7]\n",
    "angka_baru=[2,7,9]\n",
    "data.extend(angka_baru) #menambahkan angka baru\n",
    "print(data)\n",
    "\n",
    "data.sort() #mengurutkan angka dari terkecil hingga terbesar\n",
    "print(data)\n",
    "\n",
    "jumlah_data=sum(data)\n",
    "panjang_data=len(data)\n",
    "\n",
    "print(\"mean :\",jumlah_data/panjang_data) #mencari mean 1\n",
    "\n",
    "import statistics #memanggil fungsi statistics python\n",
    "\n",
    "mean=statistics.mean(data) #mencari mean 2\n",
    "print(\"mean :\", mean)\n",
    "\n",
    "median=statistics.median(data) #mencari median\n",
    "print(\"median :\", median)\n",
    "\n",
    "modus=statistics.mode(data) #mencari modus\n",
    "print(\"modus :\", modus)"
   ]
  },
  {
   "attachments": {},
   "cell_type": "markdown",
   "metadata": {},
   "source": [
    "## 3. "
   ]
  },
  {
   "attachments": {},
   "cell_type": "markdown",
   "metadata": {},
   "source": [
    "Dalam pembuatan SIM ada beberapa syarat yang harus dipenuhi bagi para pembuat SIM yaitu:\n",
    "1. Pembuat SIM harus memiliki usia setidaknya 17 tahun\n",
    "2. Pembuat SIM lulus dalam tes kesehatan\n",
    "3. Pembuat SIM lulus dalam uji psikotes\n",
    "4. Pembuat SIM telah mengikuti ujian tertulis dengan nilai setidaknya 70\n",
    "5. Pembuat SIM lulus dalam simulasi berkendara\n",
    "6. Apabila pembuat SIM memiliki surat rekomendasi dari kursus berkendara maka pembuat SIM akan mendapatkan SIM (mengabaikan poin 1-5 apabila poin ke-6 terpenuhi)\n",
    "\n",
    "Buatlah input yang membuat setiap poin menjadi variabel. Output yang dihasilkan merupakan \"True\" apabila pembuat berhak mendapatkan SIM dan \"False\" apabila pembuat tidak berhak mendapatkan SIM.\n",
    "\n",
    "> **note:** *Tidak perlu menggunakan loops dalam membuat programnya*"
   ]
  },
  {
   "cell_type": "code",
   "execution_count": 3,
   "metadata": {},
   "outputs": [
    {
     "name": "stdout",
     "output_type": "stream",
     "text": [
      "apakah berhak mendapatkan sim? True\n"
     ]
    }
   ],
   "source": [
    "usia=int(input(\"usia pembuatsim adalah :\"))\n",
    "tes_kesehatan=input(\"apakah telah lulus tes kesehatan? (ya/tidak)\")\n",
    "uji_psikotes=input(\"apakah telah lulus uji psikotes? (ya/tidak)\")\n",
    "nilai=float(input(\"nilai ujian tertulis :\"))\n",
    "simulasi=input(\"apakah telah lulus simulasi berkendara? (ya/tidak)\")\n",
    "surat_rekomendsi=input(\"apakah memiliki surat rekomendasi kursus berkendara? (ya/tidak)\")\n",
    "\n",
    "hasil=usia>=17 and tes_kesehatan==\"ya\" and uji_psikotes==\"ya\" and nilai>=70 and simulasi==\"ya\" or surat_rekomendsi==\"ya\"\n",
    "print(\"apakah berhak mendapatkan sim?\",hasil)"
   ]
  }
 ],
 "metadata": {
  "kernelspec": {
   "display_name": "Python 3",
   "language": "python",
   "name": "python3"
  },
  "language_info": {
   "codemirror_mode": {
    "name": "ipython",
    "version": 3
   },
   "file_extension": ".py",
   "mimetype": "text/x-python",
   "name": "python",
   "nbconvert_exporter": "python",
   "pygments_lexer": "ipython3",
   "version": "3.11.2"
  },
  "orig_nbformat": 4,
  "vscode": {
   "interpreter": {
    "hash": "5addf786bcd861d1ce5006f23111f8cbb206731e5b61b0a5632ba9e0252558a8"
   }
  }
 },
 "nbformat": 4,
 "nbformat_minor": 2
}
